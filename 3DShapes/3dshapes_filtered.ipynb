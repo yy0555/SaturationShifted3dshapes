{
 "cells": [
  {
   "cell_type": "code",
   "execution_count": 1,
   "metadata": {},
   "outputs": [],
   "source": [
    "from matplotlib import pyplot as plt\n",
    "import h5py, tqdm, numpy as np"
   ]
  },
  {
   "cell_type": "code",
   "execution_count": 10,
   "metadata": {},
   "outputs": [
    {
     "name": "stdout",
     "output_type": "stream",
     "text": [
      "<KeysViewHDF5 ['images', 'labels']>\n",
      "Images Data Type: <class 'numpy.uint8'>\n",
      "Labels Data Type: <class 'numpy.float64'>\n"
     ]
    }
   ],
   "source": [
    "dataset = h5py.File('3dshapes.h5', 'r')\n",
    "print(dataset.keys())\n",
    "images = dataset['images']  # array shape [480000,64,64,3], uint8 in range(256)\n",
    "labels = dataset['labels']  # array shape [480000,6], float64\n",
    "image_shape = images.shape[1:]  # [64,64,3]\n",
    "label_shape = labels.shape[1:]  # [6]\n",
    "n_samples = labels.shape[0]  # 10*10*10*8*4*15=480000\n",
    "\n",
    "_FACTORS_IN_ORDER = ['floor_hue', 'wall_hue', 'object_hue', 'scale', 'shape',\n",
    "                     'orientation']\n",
    "_NUM_VALUES_PER_FACTOR = {'floor_hue': 10, 'wall_hue': 10, 'object_hue': 10, \n",
    "                          'scale': 8, 'shape': 4, 'orientation': 15}\n",
    "\n",
    "print(\"Images Data Type:\", type(images[0][0][0][0]))\n",
    "print(\"Labels Data Type:\", type(labels[0][4]))"
   ]
  },
  {
   "cell_type": "code",
   "execution_count": 6,
   "metadata": {},
   "outputs": [],
   "source": [
    "def get_index(factors):\n",
    "  \"\"\" Converts factors to indices in range(num_data)\n",
    "  Args:\n",
    "    factors: np array shape [6,batch_size].\n",
    "             factors[i]=factors[i,:] takes integer values in \n",
    "             range(_NUM_VALUES_PER_FACTOR[_FACTORS_IN_ORDER[i]]).\n",
    "\n",
    "  Returns:\n",
    "    indices: np array shape [batch_size].\n",
    "  \"\"\"\n",
    "  indices = 0\n",
    "  base = 1\n",
    "  for factor, name in reversed(list(enumerate(_FACTORS_IN_ORDER))):\n",
    "    indices += factors[factor] * base\n",
    "    base *= _NUM_VALUES_PER_FACTOR[name]\n",
    "  return indices\n",
    "\n",
    "def show_images_grid(imgs_, num_images=36):\n",
    "  ncols = int(np.ceil(num_images**0.5))\n",
    "  nrows = int(np.ceil(num_images / ncols))\n",
    "  _, axes = plt.subplots(ncols, nrows, figsize=(nrows * 3, ncols * 3))\n",
    "  axes = axes.flatten()\n",
    "\n",
    "  for ax_i, ax in enumerate(axes):\n",
    "    if ax_i < num_images:\n",
    "      ax.imshow((imgs_[ax_i]/255.0).astype(np.float32), cmap='Greys_r', interpolation='nearest')\n",
    "      ax.set_xticks([])\n",
    "      ax.set_yticks([])\n",
    "    else:\n",
    "      ax.axis('off')"
   ]
  },
  {
   "cell_type": "code",
   "execution_count": 5,
   "metadata": {},
   "outputs": [
    {
     "name": "stdout",
     "output_type": "stream",
     "text": [
      "(6, 480)\n"
     ]
    },
    {
     "name": "stderr",
     "output_type": "stream",
     "text": [
      "100%|██████████| 480/480 [02:01<00:00,  3.94it/s]"
     ]
    },
    {
     "name": "stdout",
     "output_type": "stream",
     "text": [
      "(480, 64, 64, 3)\n",
      "<class 'numpy.ndarray'>\n"
     ]
    },
    {
     "name": "stderr",
     "output_type": "stream",
     "text": [
      "\n"
     ]
    }
   ],
   "source": [
    "factors = np.zeros([len(_FACTORS_IN_ORDER), 480], dtype=np.int32)\n",
    "print(factors.shape)\n",
    "\n",
    "factors[0, :] = 7\n",
    "factors[1, :] = 3\n",
    "factors[2, :] = 0\n",
    "\n",
    "idx = 0\n",
    "for i in range(8):\n",
    "    for j in range(4):\n",
    "        for k in range(15):\n",
    "            factors[3, idx] = i\n",
    "            factors[4, idx] = j\n",
    "            factors[5, idx] = k\n",
    "            idx += 1\n",
    "\n",
    "index = get_index(factors=factors)\n",
    "ims = []\n",
    "for ind in tqdm.tqdm(index):\n",
    "    im = images[ind]\n",
    "    im = np.asarray(im)\n",
    "    ims.append(im)\n",
    "ims = np.stack(ims, axis=0)\n",
    "ims = ims\n",
    "ims = ims\n",
    "ims.reshape([480, 64, 64, 3])\n",
    "print(ims.shape)\n",
    "print(type(ims))"
   ]
  },
  {
   "cell_type": "code",
   "execution_count": 9,
   "metadata": {},
   "outputs": [],
   "source": [
    "np.save(\"3dshapesfiltered.npy\", ims)\n",
    "labels = factors[4, :].astype(np.float64)\n",
    "np.save(\"3dshapeslabel.npy\", labels)"
   ]
  }
 ],
 "metadata": {
  "kernelspec": {
   "display_name": "Python 3",
   "language": "python",
   "name": "python3"
  },
  "language_info": {
   "codemirror_mode": {
    "name": "ipython",
    "version": 3
   },
   "file_extension": ".py",
   "mimetype": "text/x-python",
   "name": "python",
   "nbconvert_exporter": "python",
   "pygments_lexer": "ipython3",
   "version": "3.10.12"
  }
 },
 "nbformat": 4,
 "nbformat_minor": 2
}
