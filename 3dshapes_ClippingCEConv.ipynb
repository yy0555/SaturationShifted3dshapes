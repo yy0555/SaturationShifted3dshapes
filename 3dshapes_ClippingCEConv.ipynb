{
 "cells": [
  {
   "cell_type": "code",
   "execution_count": 70,
   "metadata": {},
   "outputs": [
    {
     "name": "stderr",
     "output_type": "stream",
     "text": [
      "Clipping input data to the valid range for imshow with RGB data ([0..1] for floats or [0..255] for integers).\n"
     ]
    },
    {
     "name": "stdout",
     "output_type": "stream",
     "text": [
      "[[[1. 1. 1.]\n",
      "  [1. 0. 0.]]\n",
      "\n",
      " [[0. 0. 1.]\n",
      "  [0. 1. 0.]]]\n",
      "(2, 2, 3) <class 'numpy.float32'>\n",
      "(3, 3) <class 'numpy.float32'>\n",
      "Roatated RGB [[[ 1.          1.          1.        ]\n",
      "  [ 0.6666667   0.6666667  -0.33333334]]\n",
      "\n",
      " [[ 0.6666667  -0.33333334  0.6666667 ]\n",
      "  [-0.33333334  0.6666667   0.6666667 ]]]\n",
      "[[[1.        1.        1.       ]\n",
      "  [0.6666667 0.6666667 0.       ]]\n",
      "\n",
      " [[0.6666667 0.        0.6666667]\n",
      "  [0.        0.6666667 0.6666667]]]\n",
      "[[[1.         1.         1.        ]\n",
      "  [0.88888896 0.22222224 0.22222224]]\n",
      "\n",
      " [[0.22222224 0.22222224 0.88888896]\n",
      "  [0.22222224 0.88888896 0.22222224]]]\n",
      "[[[1.         1.         1.        ]\n",
      "  [1.         0.00000024 0.00000024]]\n",
      "\n",
      " [[0.00000119 0.00000024 1.        ]\n",
      "  [0.00000024 1.         0.00000072]]]\n",
      "[[0. 0.]\n",
      " [0. 0.]]\n",
      "[[0.         0.11111114]\n",
      " [0.11111114 0.11111114]]\n"
     ]
    },
    {
     "data": {
      "text/plain": [
       "[]"
      ]
     },
     "execution_count": 70,
     "metadata": {},
     "output_type": "execute_result"
    },
    {
     "data": {
      "image/png": "[encoded data removed]",
      "text/plain": [
       "<Figure size 850x460 with 5 Axes>"
      ]
     },
     "metadata": {},
     "output_type": "display_data"
    }
   ],
   "source": [
    "# Imports\n",
    "import numpy as np, cv2, matplotlib, math\n",
    "from matplotlib import pyplot as plt\n",
    "# Define 2-by-2 image\n",
    "image = np.zeros([2, 2, 3], dtype=np.float32)\n",
    "\n",
    "# First corner white\n",
    "image[0, 0, :] = 1.0\n",
    "# Second corner red\n",
    "image[0, 1, 0] = 1.0\n",
    "# Thrid corner green\n",
    "image[1, 1, 1] = 1.0\n",
    "# Fourth corner green\n",
    "image[1, 0, 2] = 1.0\n",
    "# Sanity check image\n",
    "print(image)\n",
    "\n",
    "# Show image for sanity check\n",
    "matplotlib.rcParams['figure.figsize'] = [8.5, 4.6]\n",
    "plt.figure()\n",
    "plt.subplot(2, 3, 1)\n",
    "plt.title(\"Original\")\n",
    "plt.imshow(image)\n",
    "print(image.shape, type(image[0][0][0]))\n",
    "\n",
    "# Shift image with cv2\n",
    "image_lifted = cv2.cvtColor(image, cv2.COLOR_RGB2BGR)\n",
    "image_lifted = cv2.cvtColor(image_lifted, cv2.COLOR_BGR2HSV)\n",
    "image_lifted[:, :, 0] += 60.0\n",
    "image_lifted = cv2.cvtColor(image_lifted, cv2.COLOR_HSV2BGR)\n",
    "image_lifted = cv2.cvtColor(image_lifted, cv2.COLOR_BGR2RGB)\n",
    "plt.subplot(2, 3, 2)\n",
    "plt.title(\"Rotated in HSL Space\")\n",
    "plt.imshow(image_lifted)\n",
    "\n",
    "image_lifted = cv2.cvtColor(image_lifted, cv2.COLOR_RGB2BGR)\n",
    "image_lifted = cv2.cvtColor(image_lifted, cv2.COLOR_BGR2HSV)\n",
    "image_lifted[:, :, 0] -= 60.0\n",
    "image_lifted = cv2.cvtColor(image_lifted, cv2.COLOR_HSV2BGR)\n",
    "image_lifted = cv2.cvtColor(image_lifted, cv2.COLOR_BGR2RGB)\n",
    "plt.subplot(2, 3, 5)\n",
    "plt.imshow(image_lifted)\n",
    "\n",
    "# Rotated image on RGB Cube\n",
    "rot = 6\n",
    "cos = math.cos(2 * math.pi / rot)\n",
    "sin = math.sin(2 * math.pi / rot)\n",
    "const_a = 1 / 3 * (1.0 - cos)\n",
    "const_b = math.sqrt(1 / 3) * sin\n",
    "# Construct rotation matrix\n",
    "rot_mat = np.array([\n",
    "            [cos + const_a, const_a - const_b, const_a + const_b],\n",
    "            [const_a + const_b, cos + const_a, const_a - const_b],\n",
    "            [const_a - const_b, const_a + const_b, cos + const_a],\n",
    "        ],dtype=np.float32,)\n",
    "print(rot_mat.shape, type(rot_mat[0][0]))\n",
    "# Rotated image\n",
    "image_rot = np.zeros([2, 2, 3], dtype=np.float32)\n",
    "image_rot[0, 0, :] = np.matmul(rot_mat, image[0, 0, :])\n",
    "image_rot[1, 0, :] = np.matmul(rot_mat, image[1, 0, :])\n",
    "image_rot[0, 1, :] = np.matmul(rot_mat, image[0, 1, :])\n",
    "image_rot[1, 1, :] = np.matmul(rot_mat, image[1, 1, :])\n",
    "plt.subplot(2, 3, 3)\n",
    "plt.imshow(image_rot)\n",
    "plt.title(\"Rotated in RGB Space\")\n",
    "\n",
    "print(\"Roatated RGB\", image_rot)\n",
    "image_rot = np.clip(image_rot, 0.0, 1.0)\n",
    "print(image_rot)\n",
    "rot = -6\n",
    "cos = math.cos(2 * math.pi / rot)\n",
    "sin = math.sin(2 * math.pi / rot)\n",
    "const_a = 1 / 3 * (1.0 - cos)\n",
    "const_b = math.sqrt(1 / 3) * sin\n",
    "# Construct rotation matrix\n",
    "rot_mat = np.array([\n",
    "            [cos + const_a, const_a - const_b, const_a + const_b],\n",
    "            [const_a + const_b, cos + const_a, const_a - const_b],\n",
    "            [const_a - const_b, const_a + const_b, cos + const_a],\n",
    "        ],dtype=np.float32,)\n",
    "image_rot2 = np.zeros([2, 2, 3], dtype=np.float32)\n",
    "image_rot2[0, 0, :] = np.matmul(rot_mat, image_rot[0, 0, :])\n",
    "image_rot2[1, 0, :] = np.matmul(rot_mat, image_rot[1, 0, :])\n",
    "image_rot2[0, 1, :] = np.matmul(rot_mat, image_rot[0, 1, :])\n",
    "image_rot2[1, 1, :] = np.matmul(rot_mat, image_rot[1, 1, :])\n",
    "plt.subplot(2, 3, 6)\n",
    "plt.imshow(image_rot2)\n",
    "print(image_rot2)\n",
    "print(image_lifted)\n",
    "\n",
    "print(((image_lifted - image)**2).mean(axis=2))\n",
    "print(((image_rot2 - image)).mean(axis=2))\n",
    "\n",
    "plt.setp(plt.gcf().get_axes(), xticks=[], yticks=[])"
   ]
  }
 ],
 "metadata": {
  "kernelspec": {
   "display_name": "Python 3",
   "language": "python",
   "name": "python3"
  },
  "language_info": {
   "codemirror_mode": {
    "name": "ipython",
    "version": 3
   },
   "file_extension": ".py",
   "mimetype": "text/x-python",
   "name": "python",
   "nbconvert_exporter": "python",
   "pygments_lexer": "ipython3",
   "version": "3.10.12"
  }
 },
 "nbformat": 4,
 "nbformat_minor": 2
}
