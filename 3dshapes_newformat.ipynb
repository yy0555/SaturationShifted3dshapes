{
 "cells": [
  {
   "cell_type": "code",
   "execution_count": 2,
   "metadata": {},
   "outputs": [
    {
     "name": "stdout",
     "output_type": "stream",
     "text": [
      "Train Images Data Type: <class 'numpy.uint8'> (60000, 64, 64, 3)\n",
      "Train Labels Data Type: <class 'numpy.float64'> (60000, 6)\n"
     ]
    }
   ],
   "source": [
    "from matplotlib import pyplot as plt\n",
    "import h5py, tqdm, numpy as np\n",
    "\n",
    "file_train = h5py.File('3dshapes.h5', \"r\")\n",
    "file_test = h5py.File('3dshapes.h5', \"r\")\n",
    "labels = file_train[\"labels\"][()]\n",
    "labels = labels.reshape((10, 10, 10, 8, 4, 15, 6))\n",
    "labels_c1 = labels[:5, :5, :5].reshape(5 * 5 * 5 * 8 * 4 * 15, 6)\n",
    "labels_c2 = labels[5:, 5:, 5:].reshape(5 * 5 * 5 * 8 * 4 * 15, 6)\n",
    "labels_c3 = labels[:5, :5, 5:].reshape(5 * 5 * 5 * 8 * 4 * 15, 6)\n",
    "\n",
    "images = file_train[\"images\"][()]\n",
    "images = images.reshape((10, 10, 10, 8, 4, 15, 64, 64, 3))\n",
    "images_c1 = images[:5, :5, :5].reshape(5 * 5 * 5 * 8 * 4 * 15, 64, 64, 3)\n",
    "images_c2 = images[5:, 5:, 5:].reshape(5 * 5 * 5 * 8 * 4 * 15, 64, 64, 3)\n",
    "images_c3 = images[:5, :5, 5:].reshape(5 * 5 * 5 * 8 * 4 * 15, 64, 64, 3)\n",
    "\n",
    "print(\"Train Images Data Type:\", type(images_c1[0][0][0][0]), images_c1.shape)\n",
    "print(\"Train Labels Data Type:\", type(labels_c1[0][0]), labels_c1.shape)\n",
    "\n",
    "np.savez(\"3dshapes_train.npz\", images=images_c1, labels=labels_c1)\n",
    "np.savez(\"3dshapes_test1.npz\", images=images_c2, labels=labels_c2)\n",
    "np.savez(\"3dshapes_test2.npz\", images=images_c3, labels=labels_c3)"
   ]
  }
 ],
 "metadata": {
  "kernelspec": {
   "display_name": "Python 3",
   "language": "python",
   "name": "python3"
  },
  "language_info": {
   "codemirror_mode": {
    "name": "ipython",
    "version": 3
   },
   "file_extension": ".py",
   "mimetype": "text/x-python",
   "name": "python",
   "nbconvert_exporter": "python",
   "pygments_lexer": "ipython3",
   "version": "3.10.12"
  }
 },
 "nbformat": 4,
 "nbformat_minor": 2
}
